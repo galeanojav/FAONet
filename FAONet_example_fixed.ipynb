{
  "cells": [
    {
      "cell_type": "markdown",
      "metadata": {},
      "source": [
        "# FAONet Example\n",
        "This notebook demonstrates how to use the FAONet package to load, filter, and analyze FAOSTAT trade data."
      ]
    },
    {
      "cell_type": "code",
      "metadata": {},
      "execution_count": null,
      "outputs": [],
      "source": [
        "from faonet.io import load_and_merge_csv, save_dataframe\n",
        "from faonet.filtering import filter_top_percentile\n",
        "from faonet.network import build_bipartite_network, remove_zero_weight_edges\n",
        "from faonet.metrics import degree_by_group\n",
        "from faonet.export import export_gml"
      ]
    },
    {
      "cell_type": "code",
      "metadata": {},
      "execution_count": null,
      "outputs": [],
      "source": [
        "# Example filepaths\n",
        "filepaths = [\"FAOSTAT_data_part1.csv\", \"FAOSTAT_data_part2.csv\"]\n",
        "df = load_and_merge_csv(filepaths)\n",
        "df_filtered = filter_top_percentile(df, value_column=\"Value\", percentile=0.9)\n",
        "\n",
        "# Build network\n",
        "G, exporters, importers = build_bipartite_network(df_filtered, \"Reporter Countries\", \"Partner Countries\", \"Value\")\n",
        "G = remove_zero_weight_edges(G)\n",
        "\n",
        "# Compute degree\n",
        "degree_df = degree_by_group(G, exporters)\n",
        "print(degree_df.head())\n",
        "\n",
        "# Export to GML\n",
        "export_gml(G, \"trade_network.gml\")"
      ]
    }
  ],
  "metadata": {
    "kernelspec": {
      "display_name": "Python 3",
      "language": "python",
      "name": "python3"
    },
    "language_info": {
      "name": "python",
      "version": "3.11"
    }
  },
  "nbformat": 4,
  "nbformat_minor": 2
}