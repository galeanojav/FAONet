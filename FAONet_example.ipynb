{
 "cells": [
  {
   "cell_type": "markdown",
   "metadata": {},
   "source": [
    "# FAONet Example\n",
    "This notebook demonstrates how to use the FAONet package to load, filter and analyze FAOSTAT trade data."
   ]
  },
  {
   "cell_type": "code",
   "execution_count": 1,
   "metadata": {},
   "outputs": [],
   "source": [
    "from faonet.io import load_and_merge_csv, load_file, save_dataframe\n",
    "from faonet.filtering import filter_top_percentile\n",
    "from faonet.network import build_bipartite_network, remove_zero_weight_edges\n",
    "from faonet.metrics import degree_by_group\n",
    "from faonet.export import export_gml"
   ]
  },
  {
   "cell_type": "code",
   "execution_count": null,
   "metadata": {},
   "outputs": [],
   "source": [
    "# Example filepaths\n",
    "filepaths = ['../Data/Green_Coffe_FAO_allyears.csv']\n",
    "year = 2020\n",
    "df = load_file(filepaths, year = year)\n",
    "df_filtered = filter_top_percentile(df, value_column= 'Value', percentile=0.9)\n",
    "\n",
    "# Build network\n",
    "G, exporters, importers = build_bipartite_network(df_filtered, 'Reporter Countries', 'Partner Countries', 'Value')\n",
    "G = remove_zero_weight_edges(G)\n",
    "\n",
    "# Compute degree\n",
    "degree_df = degree_by_group(G, exporters)\n",
    "print(degree_df.head())\n",
    "\n",
    "# Export to GML\n",
    "export_gml(G, 'trade_network.gml')"
   ]
  }
 ],
 "metadata": {
  "kernelspec": {
   "display_name": "base",
   "language": "python",
   "name": "python3"
  },
  "language_info": {
   "codemirror_mode": {
    "name": "ipython",
    "version": 3
   },
   "file_extension": ".py",
   "mimetype": "text/x-python",
   "name": "python",
   "nbconvert_exporter": "python",
   "pygments_lexer": "ipython3",
   "version": "3.12.9"
  }
 },
 "nbformat": 4,
 "nbformat_minor": 2
}
